{
 "cells": [
  {
   "cell_type": "markdown",
   "id": "417712a7",
   "metadata": {},
   "source": [
    "# Divide and Conquer Algorithms"
   ]
  },
  {
   "cell_type": "markdown",
   "id": "3fb749c6",
   "metadata": {},
   "source": [
    "**Control Abstraction**  \n",
    "\n",
    "    Algorithm DandC(P):\n",
    "        if Small(P):\n",
    "            return S(P)\n",
    "        else:\n",
    "            divide P into smaller instances P1,P2,...,Pk, k>=1\n",
    "            apply DandC to each of these subproblems\n",
    "            return Combine(DandC(P1), DandC(P2),...DandC(Pk))\n"
   ]
  },
  {
   "cell_type": "markdown",
   "id": "7fcd3164",
   "metadata": {},
   "source": [
    "### Binary Search\n",
    "\n",
    "    • This works on sorted array\n",
    "    • An element which is to be searched from the list of elements stored in array A[0..n-1] is called KEY element.\n",
    "    – Let A[m] be the mid element of the array A.\n",
    "    • 3 conditions\n",
    "    – If KEY = A[m] the element is present\n",
    "    – If KEY < A[m] then search left sub list\n",
    "    – Else if KEY > A[m] then search the right sub list"
   ]
  },
  {
   "cell_type": "code",
   "execution_count": 5,
   "id": "34748e9f",
   "metadata": {},
   "outputs": [
    {
     "name": "stdout",
     "output_type": "stream",
     "text": [
      "12\n",
      "-1\n"
     ]
    }
   ],
   "source": [
    "## Recursive implementation\n",
    "\n",
    "def BinSearch(l, h, arr, x):\n",
    "    if h==l:\n",
    "        if(x==arr[l]):\n",
    "            return l\n",
    "        else:\n",
    "            return -1\n",
    "    else:\n",
    "        mid = (l+h)//2\n",
    "        if x==arr[mid]:\n",
    "            return mid\n",
    "        elif x<arr[mid]:\n",
    "            return BinSearch(l, mid-1, arr, x)\n",
    "        else:\n",
    "            return BinSearch(mid+1, h, arr, x)\n",
    "\n",
    "##test\n",
    "arr=[-15,-6, 0,7, 9, 23,54, 82,101,112,125,131,142,151]\n",
    "print(BinSearch(0,len(arr)-1, arr, 142))\n",
    "print(BinSearch(0,len(arr)-1, arr, 133))\n"
   ]
  },
  {
   "cell_type": "code",
   "execution_count": 9,
   "id": "3ce7dead",
   "metadata": {},
   "outputs": [
    {
     "name": "stdout",
     "output_type": "stream",
     "text": [
      "12\n",
      "-1\n"
     ]
    }
   ],
   "source": [
    "## Iterative implementation using one comparison per cycle\n",
    "\n",
    "def BinSearch(arr, x):\n",
    "    low=0\n",
    "    high=len(arr)\n",
    "    while(low<high-1):\n",
    "        mid = (low+high)//2\n",
    "        if x<arr[mid]:\n",
    "            high=mid\n",
    "        else:\n",
    "            low = mid\n",
    "            \n",
    "    if x==arr[low]:\n",
    "        return low\n",
    "    return -1\n",
    "\n",
    "##test\n",
    "arr=[-15,-6, 0,7, 9, 23,54, 82,101,112,125,131,142,151]\n",
    "print(BinSearch(arr, 142))\n",
    "print(BinSearch(arr, 133))\n"
   ]
  },
  {
   "cell_type": "markdown",
   "id": "252a938b",
   "metadata": {},
   "source": [
    "**Time complexity**  \n",
    "\n",
    "    Successful Searches - O(1) [bc]; O(log n) [av]; O(log n) [wc]\n",
    "    Unsuccessful Searches - O(log n)\n",
    "                    "
   ]
  },
  {
   "cell_type": "markdown",
   "id": "cb876abd",
   "metadata": {},
   "source": [
    "### Maximum and Minimum"
   ]
  },
  {
   "cell_type": "code",
   "execution_count": 11,
   "id": "75190a9b",
   "metadata": {},
   "outputs": [
    {
     "data": {
      "text/plain": [
       "(60, -8)"
      ]
     },
     "execution_count": 11,
     "metadata": {},
     "output_type": "execute_result"
    }
   ],
   "source": [
    "\n",
    "def MaxMin(arr):\n",
    "    n=len(arr)\n",
    "    if n%2==1:\n",
    "        Max=Min=arr[0]\n",
    "        i=1\n",
    "    else:\n",
    "        if(arr[0]<arr[1]):\n",
    "            Max=arr[1]\n",
    "            Min=arr[0]\n",
    "        else:\n",
    "            Max=arr[0]\n",
    "            Min=arr[1]\n",
    "        i=2\n",
    "        \n",
    "    while i<n:\n",
    "        if arr[i]<arr[i+1]:\n",
    "            if arr[i]<Min:\n",
    "                Min=arr[i]\n",
    "            if arr[i+1] > Max:\n",
    "                Max =arr[i+1]\n",
    "        else:\n",
    "            if arr[i+1]<Min:\n",
    "                Min=arr[i+1]\n",
    "            if arr[i]>Max:\n",
    "                Max =arr[i]\n",
    "        i+=2\n",
    "    \n",
    "    return Max,Min\n",
    "\n",
    "##test\n",
    "arr=[22, 13, -5, -8, 15, 60, 17, 31, 47]\n",
    "MaxMin(arr)"
   ]
  },
  {
   "cell_type": "markdown",
   "id": "64119907",
   "metadata": {},
   "source": [
    "    It takes less than 3n/2-2 comparisons. Straight min max finder does 2(n-1) comparisons at worst case."
   ]
  },
  {
   "cell_type": "markdown",
   "id": "c24b2c81",
   "metadata": {},
   "source": [
    "### Merge Sort\n",
    "    Problem: Given n elements, sort elements into non-decreasing order\n",
    "    • Divide and Conquer strategy:\n",
    "    – If array only contains one element, return (every one-element list is already sorted)\n",
    "    – Else, partition elements into two or more sub-collections; sort each; combine into a single sorted list"
   ]
  },
  {
   "cell_type": "code",
   "execution_count": 17,
   "id": "b709a4f7",
   "metadata": {},
   "outputs": [
    {
     "name": "stdout",
     "output_type": "stream",
     "text": [
      "[52, 179, 254, 285, 310, 351, 423, 450, 652, 861]\n"
     ]
    }
   ],
   "source": [
    "\n",
    "def MergeSort(low, high):\n",
    "    if low<high:\n",
    "        mid = (low+high)//2\n",
    "        MergeSort(low, mid)\n",
    "        MergeSort(mid+1, high)\n",
    "        Merge(low, mid, high)\n",
    "        \n",
    "def Merge(low, mid, high):\n",
    "    h=low\n",
    "    i=low\n",
    "    j=mid+1\n",
    "    while((h<=mid) and (j<=high)):\n",
    "        if a[h]<=a[j]:\n",
    "            b[i]=a[h]\n",
    "            h+=1\n",
    "        else:\n",
    "            b[i]=a[j]\n",
    "            j+=1\n",
    "        i+=1\n",
    "    \n",
    "    if h>mid:\n",
    "        for k in range(j, high+1):\n",
    "            b[i] = a[k]\n",
    "            i+=1\n",
    "    else:\n",
    "        for k in range(h, mid+1):\n",
    "            b[i] = a[k]\n",
    "            i+=1\n",
    "    \n",
    "    for k in range(low, high+1):\n",
    "        a[k]=b[k]\n",
    "        \n",
    "\n",
    "##test\n",
    "a=[310,285,179,652,351,423,861,254,450,52]\n",
    "b=[0]*len(a)\n",
    "MergeSort(0,len(a)-1)\n",
    "print(a)"
   ]
  },
  {
   "cell_type": "markdown",
   "id": "c0152a29",
   "metadata": {},
   "source": [
    "**Time Complexity** - O(n log n)"
   ]
  },
  {
   "cell_type": "markdown",
   "id": "24809a8f",
   "metadata": {},
   "source": [
    "### Quick Sort\n",
    "\n",
    "    Problem: Given n elements, sort elements into non-decreasing order\n",
    "    Divide and Conquer strategy:\n",
    "    • If array only contains one element, return\n",
    "    • Else\n",
    "    – pick one element to use as pivot.\n",
    "    – Partition elements into two sub-arrays:\n",
    "    • Elements less than or equal to pivot\n",
    "    • Elements greater than pivot\n",
    "    – Quicksort two sub-arrays\n",
    "    – Return results"
   ]
  },
  {
   "cell_type": "code",
   "execution_count": 29,
   "id": "44ebce7a",
   "metadata": {},
   "outputs": [
    {
     "name": "stdout",
     "output_type": "stream",
     "text": [
      "[52, 179, 179, 285, 310, 351, 423, 450, 652, 861]\n"
     ]
    }
   ],
   "source": [
    "def QuickSort(p, q):\n",
    "    \n",
    "    if p<q:\n",
    "        j=Partition(p,q)\n",
    "        \n",
    "        QuickSort(p,j-1)\n",
    "        QuickSort(j+1,q)\n",
    "\n",
    "\n",
    "def Partition(p, q):\n",
    "    \n",
    "    pivpnt=p\n",
    "    pivot=a[p]\n",
    "    p+=1\n",
    "    while(p<q):\n",
    "        while(a[p]<=pivot and p<q):\n",
    "            p+=1\n",
    "        while(a[q]>pivot):\n",
    "            q-=1\n",
    "        \n",
    "        if(p<q):\n",
    "            t=a[p]\n",
    "            a[p]=a[q]\n",
    "            a[q]=t\n",
    "    \n",
    "    a[pivpnt]=a[q]\n",
    "    a[q]=pivot\n",
    "    #print(a, pivot)\n",
    "    return q\n",
    "    \n",
    "    \n",
    "##test\n",
    "a=[310,285,179,652,351,423,861,179,450,52]\n",
    "QuickSort(0,len(a)-1)\n",
    "print(a)"
   ]
  },
  {
   "cell_type": "markdown",
   "id": "0d80a1bd",
   "metadata": {},
   "source": [
    "**Time Complexity** - O(n log n)"
   ]
  }
 ],
 "metadata": {
  "kernelspec": {
   "display_name": "Python 3",
   "language": "python",
   "name": "python3"
  },
  "language_info": {
   "codemirror_mode": {
    "name": "ipython",
    "version": 3
   },
   "file_extension": ".py",
   "mimetype": "text/x-python",
   "name": "python",
   "nbconvert_exporter": "python",
   "pygments_lexer": "ipython3",
   "version": "3.9.0"
  }
 },
 "nbformat": 4,
 "nbformat_minor": 5
}
